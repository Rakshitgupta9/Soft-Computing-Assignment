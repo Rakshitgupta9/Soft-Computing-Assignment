{
  "cells": [
    {
      "cell_type": "markdown",
      "source": [
        "#Question 1"
      ],
      "metadata": {
        "id": "97ocV07SBJ6N"
      },
      "id": "97ocV07SBJ6N"
    },
    {
      "cell_type": "markdown",
      "source": [
        "Question 1: Perform sentiment analysis on the IMDB Movie Review Dataset Using Artificial Neural Networks (ANN)."
      ],
      "metadata": {
        "id": "oELRVR7rBZ44"
      },
      "id": "oELRVR7rBZ44"
    },
    {
      "cell_type": "code",
      "source": [
        "import numpy as np\n",
        "import pandas as pd\n",
        "import matplotlib.pyplot as plt\n",
        "import seaborn as sns\n",
        "sns.set_style('darkgrid')"
      ],
      "metadata": {
        "id": "liVSj0ZfBbvG"
      },
      "id": "liVSj0ZfBbvG",
      "execution_count": null,
      "outputs": []
    },
    {
      "cell_type": "code",
      "source": [
        "df_review = pd.read_csv(\"IMDB Dataset.csv\")"
      ],
      "metadata": {
        "id": "CZOchj-mBhVQ"
      },
      "id": "CZOchj-mBhVQ",
      "execution_count": null,
      "outputs": []
    },
    {
      "cell_type": "code",
      "source": [
        "df_positive = df_review[df_review['sentiment'] == 'positive'][:9000]\n",
        "df_negative = df_review[df_review['sentiment'] == 'negative'][:1000]\n",
        "df_review_imb = pd.concat([df_positive, df_negative])"
      ],
      "metadata": {
        "id": "cyZnqPkmBlBo"
      },
      "id": "cyZnqPkmBlBo",
      "execution_count": null,
      "outputs": []
    },
    {
      "cell_type": "code",
      "source": [
        "colors = sns.color_palette('deep')\n",
        "plt.figure(figsize=(8,4), tight_layout=True)\n",
        "plt.bar(x=['Positive', 'Negative'], height=df_review_imb.value_counts(['sentiment']), color=colors[:2])\n",
        "plt.title('Sentiment')\n",
        "plt.savefig('sentiment.png')\n",
        "plt.show()"
      ],
      "metadata": {
        "colab": {
          "base_uri": "https://localhost:8080/",
          "height": 407
        },
        "id": "ypDjMtreBnqL",
        "outputId": "aab1b83e-b218-49ec-fd44-ca8574846ba1"
      },
      "id": "ypDjMtreBnqL",
      "execution_count": null,
      "outputs": [
        {
          "output_type": "display_data",
          "data": {
            "text/plain": [
              "<Figure size 800x400 with 1 Axes>"
            ],
            "image/png": "[encoded data removed]"
          },
          "metadata": {}
        }
      ]
    },
    {
      "cell_type": "code",
      "source": [
        "from imblearn.under_sampling import RandomUnderSampler\n",
        "rus = RandomUnderSampler(random_state=0)\n",
        "df_review_bal, df_review_bal['sentiment'] = rus.fit_resample(df_review_imb[['review']], df_review_imb['sentiment'])\n"
      ],
      "metadata": {
        "id": "bYv0l6hXBrEQ"
      },
      "id": "bYv0l6hXBrEQ",
      "execution_count": null,
      "outputs": []
    },
    {
      "cell_type": "code",
      "source": [
        "from sklearn.model_selection import train_test_split\n",
        "train, test = train_test_split(df_review_bal, test_size=0.33, random_state=42)\n",
        "train_x, train_y = train['review'], train['sentiment']\n",
        "test_x, test_y = test['review'], test['sentiment']"
      ],
      "metadata": {
        "id": "JXa0Ike3BuIm"
      },
      "id": "JXa0Ike3BuIm",
      "execution_count": null,
      "outputs": []
    },
    {
      "cell_type": "code",
      "source": [
        "from sklearn.feature_extraction.text import TfidfVectorizer\n",
        "tfidf = TfidfVectorizer(stop_words='english')\n",
        "train_x_vector = tfidf.fit_transform(train_x)\n",
        "test_x_vector = tfidf.transform(test_x)"
      ],
      "metadata": {
        "id": "-i2e2V7HBxJK"
      },
      "id": "-i2e2V7HBxJK",
      "execution_count": null,
      "outputs": []
    },
    {
      "cell_type": "markdown",
      "source": [
        "## **Building and Training the ANN Model**"
      ],
      "metadata": {
        "id": "mnAc7eI0BzLn"
      },
      "id": "mnAc7eI0BzLn"
    },
    {
      "cell_type": "code",
      "source": [
        "import tensorflow as tf\n",
        "from tensorflow.keras.models import Sequential\n",
        "from tensorflow.keras.layers import Dense, Dropout\n",
        "from sklearn.preprocessing import LabelEncoder"
      ],
      "metadata": {
        "id": "w4Ek8OpjCQo2"
      },
      "id": "w4Ek8OpjCQo2",
      "execution_count": null,
      "outputs": []
    },
    {
      "cell_type": "code",
      "source": [
        "label_encoder = LabelEncoder()\n",
        "train_y_enc = label_encoder.fit_transform(train_y)\n",
        "test_y_enc = label_encoder.transform(test_y)"
      ],
      "metadata": {
        "id": "lxtdqzmVCT8M"
      },
      "id": "lxtdqzmVCT8M",
      "execution_count": null,
      "outputs": []
    },
    {
      "cell_type": "code",
      "source": [
        "model = Sequential([\n",
        "    Dense(512, activation='relu', input_shape=(train_x_vector.shape[1],)),\n",
        "    Dropout(0.5),\n",
        "    Dense(256, activation='relu'),\n",
        "    Dropout(0.5),\n",
        "    Dense(1, activation='sigmoid')  # Binary classification output layer\n",
        "])"
      ],
      "metadata": {
        "colab": {
          "base_uri": "https://localhost:8080/"
        },
        "id": "VrrmCKBzCW1Y",
        "outputId": "e6452fb0-ba75-4ea7-f5f0-f713a38c581e"
      },
      "id": "VrrmCKBzCW1Y",
      "execution_count": null,
      "outputs": [
        {
          "output_type": "stream",
          "name": "stderr",
          "text": [
            "/usr/local/lib/python3.10/dist-packages/keras/src/layers/core/dense.py:87: UserWarning: Do not pass an `input_shape`/`input_dim` argument to a layer. When using Sequential models, prefer using an `Input(shape)` object as the first layer in the model instead.\n",
            "  super().__init__(activity_regularizer=activity_regularizer, **kwargs)\n"
          ]
        }
      ]
    },
    {
      "cell_type": "code",
      "source": [
        "model.compile(optimizer='adam', loss='binary_crossentropy', metrics=['accuracy'])"
      ],
      "metadata": {
        "id": "8HB1MojrCZ2J"
      },
      "id": "8HB1MojrCZ2J",
      "execution_count": null,
      "outputs": []
    },
    {
      "cell_type": "code",
      "source": [
        "history = model.fit(train_x_vector.toarray(), train_y_enc, epochs=10, batch_size=32, validation_split=0.2)"
      ],
      "metadata": {
        "colab": {
          "base_uri": "https://localhost:8080/"
        },
        "id": "mJJ325_YCcpj",
        "outputId": "3f15048c-41f7-446a-8f4b-a087f9c88bab"
      },
      "id": "mJJ325_YCcpj",
      "execution_count": null,
      "outputs": [
        {
          "output_type": "stream",
          "name": "stdout",
          "text": [
            "Epoch 1/10\n",
            "\u001b[1m34/34\u001b[0m \u001b[32m━━━━━━━━━━━━━━━━━━━━\u001b[0m\u001b[37m\u001b[0m \u001b[1m18s\u001b[0m 354ms/step - accuracy: 0.5436 - loss: 0.6885 - val_accuracy: 0.7799 - val_loss: 0.6418\n",
            "Epoch 2/10\n",
            "\u001b[1m34/34\u001b[0m \u001b[32m━━━━━━━━━━━━━━━━━━━━\u001b[0m\u001b[37m\u001b[0m \u001b[1m17s\u001b[0m 265ms/step - accuracy: 0.9411 - loss: 0.4639 - val_accuracy: 0.8433 - val_loss: 0.3597\n",
            "Epoch 3/10\n",
            "\u001b[1m34/34\u001b[0m \u001b[32m━━━━━━━━━━━━━━━━━━━━\u001b[0m\u001b[37m\u001b[0m \u001b[1m7s\u001b[0m 205ms/step - accuracy: 0.9915 - loss: 0.0468 - val_accuracy: 0.8433 - val_loss: 0.3551\n",
            "Epoch 4/10\n",
            "\u001b[1m34/34\u001b[0m \u001b[32m━━━━━━━━━━━━━━━━━━━━\u001b[0m\u001b[37m\u001b[0m \u001b[1m9s\u001b[0m 262ms/step - accuracy: 1.0000 - loss: 0.0049 - val_accuracy: 0.8470 - val_loss: 0.3851\n",
            "Epoch 5/10\n",
            "\u001b[1m34/34\u001b[0m \u001b[32m━━━━━━━━━━━━━━━━━━━━\u001b[0m\u001b[37m\u001b[0m \u001b[1m7s\u001b[0m 204ms/step - accuracy: 1.0000 - loss: 0.0014 - val_accuracy: 0.8433 - val_loss: 0.3925\n",
            "Epoch 6/10\n",
            "\u001b[1m34/34\u001b[0m \u001b[32m━━━━━━━━━━━━━━━━━━━━\u001b[0m\u001b[37m\u001b[0m \u001b[1m9s\u001b[0m 259ms/step - accuracy: 1.0000 - loss: 8.0524e-04 - val_accuracy: 0.8433 - val_loss: 0.4018\n",
            "Epoch 7/10\n",
            "\u001b[1m34/34\u001b[0m \u001b[32m━━━━━━━━━━━━━━━━━━━━\u001b[0m\u001b[37m\u001b[0m \u001b[1m10s\u001b[0m 241ms/step - accuracy: 1.0000 - loss: 4.8411e-04 - val_accuracy: 0.8433 - val_loss: 0.4087\n",
            "Epoch 8/10\n",
            "\u001b[1m34/34\u001b[0m \u001b[32m━━━━━━━━━━━━━━━━━━━━\u001b[0m\u001b[37m\u001b[0m \u001b[1m9s\u001b[0m 206ms/step - accuracy: 1.0000 - loss: 4.0745e-04 - val_accuracy: 0.8470 - val_loss: 0.4157\n",
            "Epoch 9/10\n",
            "\u001b[1m34/34\u001b[0m \u001b[32m━━━━━━━━━━━━━━━━━━━━\u001b[0m\u001b[37m\u001b[0m \u001b[1m11s\u001b[0m 226ms/step - accuracy: 1.0000 - loss: 2.7130e-04 - val_accuracy: 0.8433 - val_loss: 0.4214\n",
            "Epoch 10/10\n",
            "\u001b[1m34/34\u001b[0m \u001b[32m━━━━━━━━━━━━━━━━━━━━\u001b[0m\u001b[37m\u001b[0m \u001b[1m12s\u001b[0m 279ms/step - accuracy: 1.0000 - loss: 2.3706e-04 - val_accuracy: 0.8396 - val_loss: 0.4274\n"
          ]
        }
      ]
    },
    {
      "cell_type": "markdown",
      "source": [
        "# Question 2\n"
      ],
      "metadata": {
        "id": "2l4mDJarC1TI"
      },
      "id": "2l4mDJarC1TI"
    },
    {
      "cell_type": "markdown",
      "source": [
        "## Hyperparameter Tuning for ANN Model (Question 2(a))\n"
      ],
      "metadata": {
        "id": "A9n7CldIDYW4"
      },
      "id": "A9n7CldIDYW4"
    },
    {
      "cell_type": "markdown",
      "source": [
        "Part (a) - Optimize the ANN model using Grid Search or Random Search for hyperparameters such as the number of layers, learning rate, activation functions, and batch size."
      ],
      "metadata": {
        "id": "gzye1s_cDD8n"
      },
      "id": "gzye1s_cDD8n"
    },
    {
      "cell_type": "code",
      "source": [
        "import keras_tuner as kt"
      ],
      "metadata": {
        "id": "ptN11ltcDds0"
      },
      "id": "ptN11ltcDds0",
      "execution_count": null,
      "outputs": []
    },
    {
      "cell_type": "code",
      "source": [
        "def build_model(hp):\n",
        "    model = Sequential()\n",
        "    model.add(Dense(units=hp.Int('units', min_value=64, max_value=512, step=64), activation='relu', input_shape=(train_x_vector.shape[1],)))\n",
        "    model.add(Dropout(0.5))\n",
        "\n",
        "    for i in range(hp.Int('num_layers', 1, 3)):  # Add up to 3 additional layers\n",
        "        model.add(Dense(units=hp.Int(f'units_{i}', min_value=64, max_value=512, step=64), activation=hp.Choice('activation', ['relu', 'tanh'])))\n",
        "        model.add(Dropout(0.5))\n",
        "\n",
        "    model.add(Dense(1, activation='sigmoid'))\n",
        "    model.compile(optimizer=tf.keras.optimizers.Adam(learning_rate=hp.Choice('learning_rate', [1e-2, 1e-3, 1e-4])),\n",
        "                  loss='binary_crossentropy', metrics=['accuracy'])\n",
        "    return model\n"
      ],
      "metadata": {
        "id": "jjA-a737El7E"
      },
      "id": "jjA-a737El7E",
      "execution_count": null,
      "outputs": []
    },
    {
      "cell_type": "code",
      "source": [
        "tuner = kt.RandomSearch(\n",
        "    build_model,\n",
        "    objective='val_accuracy',\n",
        "    max_trials=5,\n",
        "    executions_per_trial=1,\n",
        "    directory='tuner_dir',\n",
        "    project_name='sentiment_analysis_tuning'\n",
        ")"
      ],
      "metadata": {
        "colab": {
          "base_uri": "https://localhost:8080/"
        },
        "id": "7DUHlhN3Eq25",
        "outputId": "e7dc6d3c-37ff-45ec-9632-bc7376f7060b"
      },
      "id": "7DUHlhN3Eq25",
      "execution_count": null,
      "outputs": [
        {
          "output_type": "stream",
          "name": "stdout",
          "text": [
            "Reloading Tuner from tuner_dir/sentiment_analysis_tuning/tuner0.json\n"
          ]
        }
      ]
    },
    {
      "cell_type": "code",
      "source": [
        "tuner.search(train_x_vector.toarray(), train_y_enc, epochs=10, validation_split=0.2)\n",
        "best_model = tuner.get_best_models(num_models=1)[0]"
      ],
      "metadata": {
        "colab": {
          "base_uri": "https://localhost:8080/"
        },
        "id": "Q-SDybGyEtsu",
        "outputId": "4c2a6e09-2af0-4e79-d674-748210f128b0"
      },
      "id": "Q-SDybGyEtsu",
      "execution_count": null,
      "outputs": [
        {
          "output_type": "stream",
          "name": "stderr",
          "text": [
            "/usr/local/lib/python3.10/dist-packages/keras/src/saving/saving_lib.py:576: UserWarning: Skipping variable loading for optimizer 'adam', because it has 2 variables whereas the saved optimizer has 18 variables. \n",
            "  saveable.load_own_variables(weights_store.get(inner_path))\n"
          ]
        }
      ]
    },
    {
      "cell_type": "markdown",
      "source": [
        "## Model Evaluation (Question 2(b))"
      ],
      "metadata": {
        "id": "rAcHg3gSGVG5"
      },
      "id": "rAcHg3gSGVG5"
    },
    {
      "cell_type": "markdown",
      "source": [
        "Part (b): Evaluate the model's performance using metrics such as accuracy, F1-score, and ROC-AUC."
      ],
      "metadata": {
        "id": "8aROZGiEGrls"
      },
      "id": "8aROZGiEGrls"
    },
    {
      "cell_type": "code",
      "source": [
        "from sklearn.metrics import accuracy_score, f1_score, roc_auc_score"
      ],
      "metadata": {
        "id": "bVkEDzdyGszw"
      },
      "id": "bVkEDzdyGszw",
      "execution_count": null,
      "outputs": []
    },
    {
      "cell_type": "code",
      "source": [
        "best_predictions = best_model.predict(test_x_vector.toarray()).round().astype(int)"
      ],
      "metadata": {
        "colab": {
          "base_uri": "https://localhost:8080/"
        },
        "id": "F7dlnjLrG1W1",
        "outputId": "4c698e6f-8ec8-488c-dce9-e9bdad6ab810"
      },
      "id": "F7dlnjLrG1W1",
      "execution_count": null,
      "outputs": [
        {
          "output_type": "stream",
          "name": "stdout",
          "text": [
            "\u001b[1m21/21\u001b[0m \u001b[32m━━━━━━━━━━━━━━━━━━━━\u001b[0m\u001b[37m\u001b[0m \u001b[1m0s\u001b[0m 20ms/step\n"
          ]
        }
      ]
    },
    {
      "cell_type": "code",
      "source": [
        "accuracy = accuracy_score(test_y_enc, best_predictions)\n",
        "f1 = f1_score(test_y_enc, best_predictions)\n",
        "roc_auc = roc_auc_score(test_y_enc, best_predictions)\n",
        "\n",
        "print(f'Best Model Accuracy: {accuracy}')\n",
        "print(f'Best Model F1-Score: {f1}')\n",
        "print(f'Best Model ROC-AUC: {roc_auc}')"
      ],
      "metadata": {
        "colab": {
          "base_uri": "https://localhost:8080/"
        },
        "id": "PqhnkH7fG6Zv",
        "outputId": "9ad8ca4a-67dc-4f22-f9a6-a3e915e88b74"
      },
      "id": "PqhnkH7fG6Zv",
      "execution_count": null,
      "outputs": [
        {
          "output_type": "stream",
          "name": "stdout",
          "text": [
            "Best Model Accuracy: 0.8287878787878787\n",
            "Best Model F1-Score: 0.8345534407027818\n",
            "Best Model ROC-AUC: 0.8284500574052813\n"
          ]
        }
      ]
    }
  ],
  "metadata": {
    "kernelspec": {
      "display_name": "Python 3",
      "language": "python",
      "name": "python3"
    },
    "language_info": {
      "codemirror_mode": {
        "name": "ipython",
        "version": 3
      },
      "file_extension": ".py",
      "mimetype": "text/x-python",
      "name": "python",
      "nbconvert_exporter": "python",
      "pygments_lexer": "ipython3",
      "version": "3.7.12"
    },
    "papermill": {
      "default_parameters": {},
      "duration": 95.3358,
      "end_time": "2022-03-15T05:16:41.764937",
      "environment_variables": {},
      "exception": null,
      "input_path": "__notebook__.ipynb",
      "output_path": "__notebook__.ipynb",
      "parameters": {},
      "start_time": "2022-03-15T05:15:06.429137",
      "version": "2.3.3"
    },
    "colab": {
      "provenance": [],
      "toc_visible": true
    }
  },
  "nbformat": 4,
  "nbformat_minor": 5
}